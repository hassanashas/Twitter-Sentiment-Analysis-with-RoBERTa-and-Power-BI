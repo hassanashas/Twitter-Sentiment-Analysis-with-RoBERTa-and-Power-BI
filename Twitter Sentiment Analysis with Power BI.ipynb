{
 "cells": [
  {
   "cell_type": "markdown",
   "id": "af406703",
   "metadata": {},
   "source": [
    "## Initial Setup"
   ]
  },
  {
   "cell_type": "code",
   "execution_count": 47,
   "id": "bd159511",
   "metadata": {},
   "outputs": [],
   "source": [
    "import pandas as pd \n",
    "import snscrape.modules.twitter as sntwitter\n",
    "from googletrans import Translator\n",
    "from langdetect import detect\n",
    "from transformers import AutoTokenizer, AutoModelForSequenceClassification\n",
    "from scipy.special import softmax\n",
    "import re\n",
    "import yaml"
   ]
  },
  {
   "cell_type": "code",
   "execution_count": 48,
   "id": "decc7593",
   "metadata": {},
   "outputs": [],
   "source": [
    "with open(\"config.yaml\", \"r\") as f:\n",
    "    config = yaml.safe_load(f)"
   ]
  },
  {
   "cell_type": "markdown",
   "id": "1c1a450b",
   "metadata": {},
   "source": [
    "### Loading the NLP Model"
   ]
  },
  {
   "cell_type": "code",
   "execution_count": 49,
   "id": "0f842a28",
   "metadata": {},
   "outputs": [
    {
     "name": "stderr",
     "output_type": "stream",
     "text": [
      "Some weights of the model checkpoint at cardiffnlp/twitter-roberta-base-sentiment-latest were not used when initializing RobertaForSequenceClassification: ['roberta.pooler.dense.weight', 'roberta.pooler.dense.bias']\n",
      "- This IS expected if you are initializing RobertaForSequenceClassification from the checkpoint of a model trained on another task or with another architecture (e.g. initializing a BertForSequenceClassification model from a BertForPreTraining model).\n",
      "- This IS NOT expected if you are initializing RobertaForSequenceClassification from the checkpoint of a model that you expect to be exactly identical (initializing a BertForSequenceClassification model from a BertForSequenceClassification model).\n"
     ]
    }
   ],
   "source": [
    "# Loading the Model \n",
    "roberta = \"cardiffnlp/twitter-roberta-base-sentiment-latest\"\n",
    "\n",
    "model = AutoModelForSequenceClassification.from_pretrained(roberta)\n",
    "tokenizer = AutoTokenizer.from_pretrained(roberta)\n",
    "\n",
    "Translator = Translator() # Initialization Translator Object\n"
   ]
  },
  {
   "cell_type": "markdown",
   "id": "e07b2e16",
   "metadata": {},
   "source": [
    "## Scrapping the Twitter Data"
   ]
  },
  {
   "cell_type": "code",
   "execution_count": 50,
   "id": "ff2c2be6",
   "metadata": {},
   "outputs": [],
   "source": [
    "def translateSentence(tweet):\n",
    "    try:\n",
    "        languageDetected = detect(tweet)\n",
    "    except:\n",
    "        return \"\" \n",
    "    \n",
    "    if languageDetected != 'en':\n",
    "        tweet = Translator.translate(tweet, dest=\"en\").text\n",
    "    \n",
    "    return tweet"
   ]
  },
  {
   "cell_type": "code",
   "execution_count": 51,
   "id": "be169531",
   "metadata": {},
   "outputs": [],
   "source": [
    "def preprocessTweet(tweet):\n",
    "    \n",
    "    tweet = re.sub(r'@[A-Za-z0-9]+', '', tweet) # Removes the Tags from the Tweet (@ mentions)\n",
    "    tweet = re.sub(r'#', '', tweet) # Removes any hashtags \n",
    "    tweet = re.sub(r'RT[\\s]+', '', tweet) # Removes the RTs.\n",
    "    tweet = re.sub(r'https?:\\/\\/\\S+', '', tweet) # Removing the hyperlinks \n",
    "    \n",
    "    if len(tweet) > 10:\n",
    "        return tweet\n"
   ]
  },
  {
   "cell_type": "code",
   "execution_count": 52,
   "id": "62a1fa89",
   "metadata": {},
   "outputs": [],
   "source": [
    "# Defining Labels \n",
    "labels = [\"Negative\", \"Neutral\", \"Positive\"]"
   ]
  },
  {
   "cell_type": "code",
   "execution_count": 53,
   "id": "e3d63e6f",
   "metadata": {},
   "outputs": [],
   "source": [
    "def getPrediction(tweet):\n",
    "    encoded_tweet = tokenizer(tweet, return_tensors='pt')\n",
    "    output = model(**encoded_tweet)\n",
    "    \n",
    "    scores = output[0][0].detach().tolist()\n",
    "    scores = softmax(scores) # Get Probabilities against Logits\n",
    "    scores_dict = {\n",
    "        \"Negative\": scores[0], \n",
    "        \"Neutral\": scores[1], \n",
    "        \"Positive\": scores[2]\n",
    "    }\n",
    "\n",
    "    return max(scores_dict, key=scores_dict.get), max(scores_dict.values()) # Return the Label and Score with Maximum Probability"
   ]
  },
  {
   "cell_type": "code",
   "execution_count": 98,
   "id": "a34a6ed9",
   "metadata": {},
   "outputs": [],
   "source": [
    "# Enter Twitter Handles to Scrap Data\n",
    "peopleToScrap = [\"ImranKhanPTI\", \"HamidMirPAK\", \"BBhuttoZardari\", \"CMShehbaz\", \"Asad_Umar\"]"
   ]
  },
  {
   "cell_type": "code",
   "execution_count": 99,
   "id": "54c8b8ec",
   "metadata": {},
   "outputs": [],
   "source": [
    "def scrap_twitter_data(person):\n",
    "    scrapper = sntwitter.TwitterSearchScraper(\"from:\"+person)\n",
    "    tweets = []\n",
    "    for i, tweet in enumerate(scrapper.get_items()):\n",
    "\n",
    "        tweetContent = tweet.rawContent\n",
    "        tweetContent = translateSentence(tweetContent)\n",
    "        tweetContent = preprocessTweet(tweetContent)\n",
    "        if not tweetContent:\n",
    "            continue\n",
    "        polarity, score = getPrediction(tweetContent)\n",
    "        data = [\n",
    "            tweet.date, \n",
    "            tweet.user.displayname,\n",
    "            tweet.user.username,\n",
    "            tweet.rawContent, \n",
    "            tweetContent,\n",
    "            polarity, \n",
    "            score\n",
    "        ]\n",
    "\n",
    "        tweets.append(data)\n",
    "        if i > 100:\n",
    "            break\n",
    "    return tweets"
   ]
  },
  {
   "cell_type": "code",
   "execution_count": 100,
   "id": "a8276482",
   "metadata": {},
   "outputs": [],
   "source": [
    "### RUN THIS FOR MULTIPROCESSING \n",
    "# completeData = []\n",
    "# with concurrent.futures.ProcessPoolExecutor() as executor: \n",
    "    \n",
    "#     results = executor.map(scrap_twitter_data, peopleToScrap)\n",
    "    \n",
    "#     for result in results:\n",
    "#         completeData.extend(result)\n"
   ]
  },
  {
   "cell_type": "code",
   "execution_count": 101,
   "id": "9db32b59",
   "metadata": {},
   "outputs": [
    {
     "name": "stdout",
     "output_type": "stream",
     "text": [
      "Data Scrapped Successfully against ImranKhanPTI\n",
      "Data Scrapped Successfully against HamidMirPAK\n",
      "Data Scrapped Successfully against BBhuttoZardari\n",
      "Data Scrapped Successfully against CMShehbaz\n",
      "Data Scrapped Successfully against Asad_Umar\n"
     ]
    }
   ],
   "source": [
    "completeData = [] \n",
    "\n",
    "for person in peopleToScrap:\n",
    "    \n",
    "    completeData.extend(scrap_twitter_data(person))\n",
    "    print(\"Data Scrapped Successfully against\", person)"
   ]
  },
  {
   "cell_type": "code",
   "execution_count": 102,
   "id": "9f0b81c8",
   "metadata": {},
   "outputs": [],
   "source": [
    "tweet_df = pd.DataFrame(\n",
    "    completeData, columns=['TWEET_DATE', 'NAME', 'USERNAME', 'CONTENT', 'NORMALIZED_TWEET', 'POLARITY', 'SCORE'])"
   ]
  },
  {
   "cell_type": "code",
   "execution_count": 103,
   "id": "b51562b9",
   "metadata": {},
   "outputs": [],
   "source": [
    "def fix_date_cols(df, tz = 'UTC'):\n",
    "    df[\"TWEET_DATE\"] = df[\"TWEET_DATE\"].dt.tz_localize(tz)\n",
    "    return df"
   ]
  },
  {
   "cell_type": "code",
   "execution_count": 104,
   "id": "d6019ca8",
   "metadata": {},
   "outputs": [
    {
     "data": {
      "text/html": [
       "<div>\n",
       "<style scoped>\n",
       "    .dataframe tbody tr th:only-of-type {\n",
       "        vertical-align: middle;\n",
       "    }\n",
       "\n",
       "    .dataframe tbody tr th {\n",
       "        vertical-align: top;\n",
       "    }\n",
       "\n",
       "    .dataframe thead th {\n",
       "        text-align: right;\n",
       "    }\n",
       "</style>\n",
       "<table border=\"1\" class=\"dataframe\">\n",
       "  <thead>\n",
       "    <tr style=\"text-align: right;\">\n",
       "      <th></th>\n",
       "      <th>TWEET_DATE</th>\n",
       "      <th>NAME</th>\n",
       "      <th>USERNAME</th>\n",
       "      <th>CONTENT</th>\n",
       "      <th>NORMALIZED_TWEET</th>\n",
       "      <th>POLARITY</th>\n",
       "      <th>SCORE</th>\n",
       "      <th>INDEX</th>\n",
       "    </tr>\n",
       "  </thead>\n",
       "  <tbody>\n",
       "    <tr>\n",
       "      <th>0</th>\n",
       "      <td>2023-02-18</td>\n",
       "      <td>Imran Khan</td>\n",
       "      <td>ImranKhanPTI</td>\n",
       "      <td>کراچی پولیس آفس پر کل کے دہشتگرد حملے کی شدید ...</td>\n",
       "      <td>I strongly condemn yesterday's terrorist attac...</td>\n",
       "      <td>Negative</td>\n",
       "      <td>0.936052</td>\n",
       "      <td>1</td>\n",
       "    </tr>\n",
       "    <tr>\n",
       "      <th>1</th>\n",
       "      <td>2023-02-18</td>\n",
       "      <td>Imran Khan</td>\n",
       "      <td>ImranKhanPTI</td>\n",
       "      <td>Strongly condemn the terrorist attack on Karac...</td>\n",
       "      <td>Strongly condemn the terrorist attack on Karac...</td>\n",
       "      <td>Negative</td>\n",
       "      <td>0.927952</td>\n",
       "      <td>2</td>\n",
       "    </tr>\n",
       "    <tr>\n",
       "      <th>2</th>\n",
       "      <td>2023-02-13</td>\n",
       "      <td>Imran Khan</td>\n",
       "      <td>ImranKhanPTI</td>\n",
       "      <td>ضیاءمحیِّ الدین کی رحلت پر افسردہ ہوں۔میری ان ...</td>\n",
       "      <td>I am saddened by the death of Zia Mahi -ud -di...</td>\n",
       "      <td>Neutral</td>\n",
       "      <td>0.444117</td>\n",
       "      <td>3</td>\n",
       "    </tr>\n",
       "    <tr>\n",
       "      <th>3</th>\n",
       "      <td>2023-02-13</td>\n",
       "      <td>Imran Khan</td>\n",
       "      <td>ImranKhanPTI</td>\n",
       "      <td>Saddened to learn of the passing of Zia Mohyed...</td>\n",
       "      <td>Saddened to learn of the passing of Zia Mohyed...</td>\n",
       "      <td>Positive</td>\n",
       "      <td>0.539021</td>\n",
       "      <td>4</td>\n",
       "    </tr>\n",
       "    <tr>\n",
       "      <th>4</th>\n",
       "      <td>2023-02-11</td>\n",
       "      <td>Imran Khan</td>\n",
       "      <td>ImranKhanPTI</td>\n",
       "      <td>قانون کی حکمرانی کےبغیرجمہوریت کا تصور ہی محال...</td>\n",
       "      <td>The concept of democracy without the rule of l...</td>\n",
       "      <td>Neutral</td>\n",
       "      <td>0.774645</td>\n",
       "      <td>5</td>\n",
       "    </tr>\n",
       "    <tr>\n",
       "      <th>...</th>\n",
       "      <td>...</td>\n",
       "      <td>...</td>\n",
       "      <td>...</td>\n",
       "      <td>...</td>\n",
       "      <td>...</td>\n",
       "      <td>...</td>\n",
       "      <td>...</td>\n",
       "      <td>...</td>\n",
       "    </tr>\n",
       "    <tr>\n",
       "      <th>494</th>\n",
       "      <td>2022-12-31</td>\n",
       "      <td>Asad Umar</td>\n",
       "      <td>Asad_Umar</td>\n",
       "      <td>ووٹر موجود، الیکشن کمیشن اور بزدل امپورٹڈ حکوم...</td>\n",
       "      <td>Voters present, Election Commission and coward...</td>\n",
       "      <td>Negative</td>\n",
       "      <td>0.606073</td>\n",
       "      <td>495</td>\n",
       "    </tr>\n",
       "    <tr>\n",
       "      <th>495</th>\n",
       "      <td>2022-12-31</td>\n",
       "      <td>Asad Umar</td>\n",
       "      <td>Asad_Umar</td>\n",
       "      <td>یہ امپورٹد حکومت جو نظام بنانے کی کوشش کر رہی ...</td>\n",
       "      <td>This imported government, which is trying to c...</td>\n",
       "      <td>Negative</td>\n",
       "      <td>0.775931</td>\n",
       "      <td>496</td>\n",
       "    </tr>\n",
       "    <tr>\n",
       "      <th>496</th>\n",
       "      <td>2022-12-31</td>\n",
       "      <td>Asad Umar</td>\n",
       "      <td>Asad_Umar</td>\n",
       "      <td>تحریک انصاف اسلام آباد کی ٹیمیں الیکشن کے لئے ...</td>\n",
       "      <td>PTI Islamabad teams are present on the ground ...</td>\n",
       "      <td>Negative</td>\n",
       "      <td>0.634548</td>\n",
       "      <td>497</td>\n",
       "    </tr>\n",
       "    <tr>\n",
       "      <th>497</th>\n",
       "      <td>2022-12-30</td>\n",
       "      <td>Asad Umar</td>\n",
       "      <td>Asad_Umar</td>\n",
       "      <td>Another 294 million $ drop in state bank reser...</td>\n",
       "      <td>Another 294 million $ drop in state bank reser...</td>\n",
       "      <td>Negative</td>\n",
       "      <td>0.891747</td>\n",
       "      <td>498</td>\n",
       "    </tr>\n",
       "    <tr>\n",
       "      <th>498</th>\n",
       "      <td>2022-12-28</td>\n",
       "      <td>Asad Umar</td>\n",
       "      <td>Asad_Umar</td>\n",
       "      <td>ہسپتالوں میں آپریشن کے لئے سرجیکل سپلائیز کی ک...</td>\n",
       "      <td>Surgical supplies for operation in hospitals b...</td>\n",
       "      <td>Negative</td>\n",
       "      <td>0.910301</td>\n",
       "      <td>499</td>\n",
       "    </tr>\n",
       "  </tbody>\n",
       "</table>\n",
       "<p>499 rows × 8 columns</p>\n",
       "</div>"
      ],
      "text/plain": [
       "     TWEET_DATE        NAME      USERNAME  \\\n",
       "0    2023-02-18  Imran Khan  ImranKhanPTI   \n",
       "1    2023-02-18  Imran Khan  ImranKhanPTI   \n",
       "2    2023-02-13  Imran Khan  ImranKhanPTI   \n",
       "3    2023-02-13  Imran Khan  ImranKhanPTI   \n",
       "4    2023-02-11  Imran Khan  ImranKhanPTI   \n",
       "..          ...         ...           ...   \n",
       "494  2022-12-31   Asad Umar     Asad_Umar   \n",
       "495  2022-12-31   Asad Umar     Asad_Umar   \n",
       "496  2022-12-31   Asad Umar     Asad_Umar   \n",
       "497  2022-12-30   Asad Umar     Asad_Umar   \n",
       "498  2022-12-28   Asad Umar     Asad_Umar   \n",
       "\n",
       "                                               CONTENT  \\\n",
       "0    کراچی پولیس آفس پر کل کے دہشتگرد حملے کی شدید ...   \n",
       "1    Strongly condemn the terrorist attack on Karac...   \n",
       "2    ضیاءمحیِّ الدین کی رحلت پر افسردہ ہوں۔میری ان ...   \n",
       "3    Saddened to learn of the passing of Zia Mohyed...   \n",
       "4    قانون کی حکمرانی کےبغیرجمہوریت کا تصور ہی محال...   \n",
       "..                                                 ...   \n",
       "494  ووٹر موجود، الیکشن کمیشن اور بزدل امپورٹڈ حکوم...   \n",
       "495  یہ امپورٹد حکومت جو نظام بنانے کی کوشش کر رہی ...   \n",
       "496  تحریک انصاف اسلام آباد کی ٹیمیں الیکشن کے لئے ...   \n",
       "497  Another 294 million $ drop in state bank reser...   \n",
       "498  ہسپتالوں میں آپریشن کے لئے سرجیکل سپلائیز کی ک...   \n",
       "\n",
       "                                      NORMALIZED_TWEET  POLARITY     SCORE  \\\n",
       "0    I strongly condemn yesterday's terrorist attac...  Negative  0.936052   \n",
       "1    Strongly condemn the terrorist attack on Karac...  Negative  0.927952   \n",
       "2    I am saddened by the death of Zia Mahi -ud -di...   Neutral  0.444117   \n",
       "3    Saddened to learn of the passing of Zia Mohyed...  Positive  0.539021   \n",
       "4    The concept of democracy without the rule of l...   Neutral  0.774645   \n",
       "..                                                 ...       ...       ...   \n",
       "494  Voters present, Election Commission and coward...  Negative  0.606073   \n",
       "495  This imported government, which is trying to c...  Negative  0.775931   \n",
       "496  PTI Islamabad teams are present on the ground ...  Negative  0.634548   \n",
       "497  Another 294 million $ drop in state bank reser...  Negative  0.891747   \n",
       "498  Surgical supplies for operation in hospitals b...  Negative  0.910301   \n",
       "\n",
       "     INDEX  \n",
       "0        1  \n",
       "1        2  \n",
       "2        3  \n",
       "3        4  \n",
       "4        5  \n",
       "..     ...  \n",
       "494    495  \n",
       "495    496  \n",
       "496    497  \n",
       "497    498  \n",
       "498    499  \n",
       "\n",
       "[499 rows x 8 columns]"
      ]
     },
     "execution_count": 104,
     "metadata": {},
     "output_type": "execute_result"
    }
   ],
   "source": [
    "tweet_df[\"TWEET_DATE\"] = pd.to_datetime(tweet_df[\"TWEET_DATE\"]).dt.strftime('%Y-%m-%d')\n",
    "tweet_df['INDEX'] = range(1, len(tweet_df) + 1)\n",
    "tweet_df"
   ]
  },
  {
   "cell_type": "code",
   "execution_count": 105,
   "id": "2e9351a2",
   "metadata": {},
   "outputs": [],
   "source": [
    "tweet_df.to_csv(\"Scrapped_Data.csv\", index=False)"
   ]
  },
  {
   "cell_type": "markdown",
   "id": "7e63e823",
   "metadata": {},
   "source": [
    "## Snowflake Connectivity"
   ]
  },
  {
   "cell_type": "code",
   "execution_count": 106,
   "id": "ab70b963",
   "metadata": {},
   "outputs": [],
   "source": [
    "import snowflake.connector\n",
    "import yaml\n",
    "from snowflake.connector.pandas_tools import write_pandas"
   ]
  },
  {
   "cell_type": "code",
   "execution_count": 107,
   "id": "adb79fb6",
   "metadata": {},
   "outputs": [],
   "source": [
    "conn = snowflake.connector.connect (\n",
    "    user = config[\"SNOWFLAKE_USERNAME\"], \n",
    "    password = config[\"SNOWFLAKE_PASSWORD\"], \n",
    "    account = config[\"SNOWFLAKE_ACCOUNT\"],\n",
    "    database = config[\"SNOWFLAKE_DATABASE\"], \n",
    "    schema = config[\"SNOWFLAKE_SCHEMA\"],\n",
    "    region = config[\"SNOWFLAKE_REGION\"],\n",
    "    Role = config[\"SNOWFLAKE_ROLE\"],\n",
    "    Warehouse = config[\"SNOWFLAKE_WAREHOUSE\"]\n",
    ")"
   ]
  },
  {
   "cell_type": "code",
   "execution_count": 108,
   "id": "03cfeffd",
   "metadata": {},
   "outputs": [],
   "source": [
    "# Delete all the existing records from the Snowflake Table\n",
    "cs = conn.cursor()\n",
    "try:\n",
    "    cs.execute(\"delete from TWEETS_DATA\")\n",
    "finally:\n",
    "    cs.close()"
   ]
  },
  {
   "cell_type": "code",
   "execution_count": 109,
   "id": "d8d97ebc",
   "metadata": {},
   "outputs": [],
   "source": [
    "# Write the Pandas Dataframe into Snowflake Table \n",
    "success, nchunks, nrows, _ = write_pandas(conn, tweet_df, \"TWEETS_DATA\", quote_identifiers=True)"
   ]
  },
  {
   "cell_type": "markdown",
   "id": "ace440ce",
   "metadata": {},
   "source": [
    "## Power BI Data Refresh "
   ]
  },
  {
   "cell_type": "code",
   "execution_count": 110,
   "id": "0368213f",
   "metadata": {},
   "outputs": [
    {
     "name": "stdout",
     "output_type": "stream",
     "text": [
      "Dataset refreshed\n"
     ]
    }
   ],
   "source": [
    "# Video Reference: https://www.youtube.com/watch?v=kcOp3_RCMmo\n",
    "import requests\n",
    "import msal\n",
    "\n",
    "def request_access_token():\n",
    "    app_id = config['POWERBI_APP_ID']\n",
    "    tenant_id = config['POWERBI_TENANT_ID']\n",
    "\n",
    "    authority_url = 'https://login.microsoftonline.com/' + tenant_id\n",
    "    scopes = ['https://analysis.windows.net/powerbi/api/.default']\n",
    "\n",
    "    # Step 1. Generate Power BI Access Token\n",
    "    client = msal.PublicClientApplication(app_id, authority=authority_url)\n",
    "    token_response = client.acquire_token_by_username_password(username=config['POWERBI_USERNAME'], password=config['POWERBI_PASSWORD'], scopes=scopes)\n",
    "    if not 'access_token' in token_response:\n",
    "        raise Exception(token_response['error_description'])\n",
    "\n",
    "    access_id = token_response.get('access_token')\n",
    "    return access_id\n",
    "\n",
    "access_id = request_access_token()\n",
    "\n",
    "dataset_id = config['POWERBI_DATASET_ID']\n",
    "endpoint = f'https://api.powerbi.com/v1.0/myorg/datasets/{dataset_id}/refreshes'\n",
    "headers = {\n",
    "    'Authorization': f'Bearer ' + access_id\n",
    "}\n",
    "\n",
    "response = requests.post(endpoint, headers=headers)\n",
    "if response.status_code == 202:\n",
    "    print('Dataset refreshed')\n",
    "else:\n",
    "    print(response.reason)\n",
    "    print(response.json())\n"
   ]
  },
  {
   "cell_type": "markdown",
   "id": "5325111c",
   "metadata": {},
   "source": [
    "## Power BI Connectivity"
   ]
  },
  {
   "cell_type": "code",
   "execution_count": 111,
   "id": "cd747287",
   "metadata": {},
   "outputs": [],
   "source": [
    "from IPython.display import IFrame"
   ]
  },
  {
   "cell_type": "code",
   "execution_count": 112,
   "id": "bd977e9a",
   "metadata": {},
   "outputs": [],
   "source": [
    "link_report = \"https://app.powerbi.com/reportEmbed?reportId=b0c6bf9b-3ec5-41ad-839e-83d6ac075010&autoAuth=true&ctid=a1e3cc4f-47e2-4e32-a7a1-5b14136b160b\"\n",
    "Dashboard = IFrame(src=link_report, width=950, height=600)"
   ]
  },
  {
   "cell_type": "code",
   "execution_count": 113,
   "id": "1bac8c88",
   "metadata": {},
   "outputs": [
    {
     "data": {
      "text/html": [
       "\n",
       "        <iframe\n",
       "            width=\"950\"\n",
       "            height=\"600\"\n",
       "            src=\"https://app.powerbi.com/reportEmbed?reportId=b0c6bf9b-3ec5-41ad-839e-83d6ac075010&autoAuth=true&ctid=a1e3cc4f-47e2-4e32-a7a1-5b14136b160b\"\n",
       "            frameborder=\"0\"\n",
       "            allowfullscreen\n",
       "            \n",
       "        ></iframe>\n",
       "        "
      ],
      "text/plain": [
       "<IPython.lib.display.IFrame at 0x22551fd6f20>"
      ]
     },
     "metadata": {},
     "output_type": "display_data"
    }
   ],
   "source": [
    "display(Dashboard)"
   ]
  },
  {
   "cell_type": "code",
   "execution_count": null,
   "id": "ed2abed4",
   "metadata": {},
   "outputs": [],
   "source": []
  }
 ],
 "metadata": {
  "kernelspec": {
   "display_name": "Python 3 (ipykernel)",
   "language": "python",
   "name": "python3"
  },
  "language_info": {
   "codemirror_mode": {
    "name": "ipython",
    "version": 3
   },
   "file_extension": ".py",
   "mimetype": "text/x-python",
   "name": "python",
   "nbconvert_exporter": "python",
   "pygments_lexer": "ipython3",
   "version": "3.10.0"
  }
 },
 "nbformat": 4,
 "nbformat_minor": 5
}
